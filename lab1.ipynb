{
 "cells": [
  {
   "cell_type": "markdown",
   "metadata": {},
   "source": [
    "HOME"
   ]
  },
  {
   "cell_type": "code",
   "execution_count": 4,
   "metadata": {},
   "outputs": [
    {
     "name": "stdout",
     "output_type": "stream",
     "text": [
      "Hello, World!\n"
     ]
    }
   ],
   "source": [
    "print(\"Hello, World!\")"
   ]
  },
  {
   "cell_type": "markdown",
   "metadata": {},
   "source": [
    "Version"
   ]
  },
  {
   "cell_type": "code",
   "execution_count": 5,
   "metadata": {},
   "outputs": [
    {
     "name": "stdout",
     "output_type": "stream",
     "text": [
      "3.9.6 (default, May  7 2023, 23:32:44) \n",
      "[Clang 14.0.3 (clang-1403.0.22.14.1)]\n"
     ]
    }
   ],
   "source": [
    "import sys\n",
    "\n",
    "print(sys.version)"
   ]
  },
  {
   "cell_type": "markdown",
   "metadata": {},
   "source": [
    "Syntax"
   ]
  },
  {
   "cell_type": "code",
   "execution_count": 6,
   "metadata": {},
   "outputs": [
    {
     "name": "stdout",
     "output_type": "stream",
     "text": [
      "Five is greater than two!\n",
      "Five is greater than two!\n",
      "Five is greater than two!\n"
     ]
    }
   ],
   "source": [
    "# First example:\n",
    "if 5 > 2:\n",
    "  print(\"Five is greater than two!\")\n",
    "\n",
    "# Second example:\n",
    "if 5 > 2:\n",
    " print(\"Five is greater than two!\") \n",
    "if 5 > 2:\n",
    "        print(\"Five is greater than two!\")"
   ]
  },
  {
   "cell_type": "code",
   "execution_count": 7,
   "metadata": {},
   "outputs": [
    {
     "name": "stdout",
     "output_type": "stream",
     "text": [
      "Hello, World!\n",
      "Hello, World!\n",
      "Cheers, Mate!\n"
     ]
    }
   ],
   "source": [
    "# Comments\n",
    "\n",
    "#This is a comment\n",
    "print(\"Hello, World!\")\n",
    "\n",
    "print(\"Hello, World!\") #This is a comment\n",
    "\n",
    "#print(\"Hello, World!\")\n",
    "print(\"Cheers, Mate!\")"
   ]
  },
  {
   "cell_type": "markdown",
   "metadata": {},
   "source": [
    "Variables"
   ]
  },
  {
   "cell_type": "code",
   "execution_count": 8,
   "metadata": {},
   "outputs": [
    {
     "name": "stdout",
     "output_type": "stream",
     "text": [
      "5\n",
      "John\n",
      "Sally\n",
      "<class 'str'>\n",
      "<class 'int'>\n"
     ]
    }
   ],
   "source": [
    "# Variables\n",
    "\n",
    "x = 5\n",
    "y = \"John\"\n",
    "print(x)\n",
    "print(y)\n",
    "\n",
    "x = 4           # x is of type int\n",
    "x = \"Sally\"     # x is now of type str\n",
    "print(x)\n",
    "\n",
    "x = str(3)      # x will be '3'\n",
    "y = int(3)      # y will be 3\n",
    "z = float(3)    # z will be 3.0\n",
    "\n",
    "print(type(x))\n",
    "print(type(y))\n",
    "\n",
    "x = \"John\"\n",
    "# is the same as\n",
    "x = 'John'\n",
    "\n",
    "a = 4\n",
    "A = \"Sally\"\n",
    "#A will not overwrite a"
   ]
  },
  {
   "cell_type": "markdown",
   "metadata": {},
   "source": [
    "Variable Names"
   ]
  },
  {
   "cell_type": "code",
   "execution_count": 9,
   "metadata": {},
   "outputs": [],
   "source": [
    "# Legal variable names\n",
    "myvar = \"John\"\n",
    "my_var = \"John\"\n",
    "_my_var = \"John\"\n",
    "myVar = \"John\"\n",
    "MYVAR = \"John\"\n",
    "myvar2 = \"John\"\n",
    "\n",
    "# Illegal variable names \n",
    "\n",
    "# Camel Case \n",
    "myVariableName = \"John\"\n",
    "\n",
    "# Pascal Case \n",
    "myVariableName = \"John\"\n",
    "\n",
    "# Snake Case\n",
    "my_variable_name = \"John\""
   ]
  },
  {
   "cell_type": "markdown",
   "metadata": {},
   "source": [
    "Assign Multiple Values"
   ]
  },
  {
   "cell_type": "code",
   "execution_count": 10,
   "metadata": {},
   "outputs": [
    {
     "name": "stdout",
     "output_type": "stream",
     "text": [
      "Orange\n",
      "Banana\n",
      "Cherry\n",
      "Orange\n",
      "Orange\n",
      "Orange\n",
      "apple\n",
      "banana\n",
      "cherry\n"
     ]
    }
   ],
   "source": [
    "# First example\n",
    "x, y, z = \"Orange\", \"Banana\", \"Cherry\"\n",
    "print(x)\n",
    "print(y)\n",
    "print(z)\n",
    "\n",
    "# Second example\n",
    "x = y = z = \"Orange\"\n",
    "print(x)\n",
    "print(y)\n",
    "print(z)\n",
    "\n",
    "# Third example\n",
    "fruits = [\"apple\", \"banana\", \"cherry\"]\n",
    "x, y, z = fruits\n",
    "print(x)\n",
    "print(y)\n",
    "print(z)"
   ]
  },
  {
   "cell_type": "markdown",
   "metadata": {},
   "source": [
    "Output Variables"
   ]
  },
  {
   "cell_type": "code",
   "execution_count": 11,
   "metadata": {},
   "outputs": [
    {
     "name": "stdout",
     "output_type": "stream",
     "text": [
      "Python is awesome\n",
      "Python is awesome\n",
      "Python is awesome\n",
      "15\n",
      "5 John\n"
     ]
    }
   ],
   "source": [
    "# First example\n",
    "x = \"Python is awesome\"\n",
    "print(x)\n",
    "\n",
    "# Second example\n",
    "x = \"Python\"\n",
    "y = \"is\"\n",
    "z = \"awesome\"\n",
    "print(x, y, z)\n",
    "\n",
    "# Third example\n",
    "x = \"Python \"\n",
    "y = \"is \"\n",
    "z = \"awesome\"\n",
    "print(x + y + z)\n",
    "\n",
    "# First example with numbers\n",
    "x = 5\n",
    "y = 10\n",
    "print(x + y)\n",
    "\n",
    "# The wrong way of combinating numbers with str\n",
    "x = 5\n",
    "y = \"John\"\n",
    "# print(x + y)\n",
    "\n",
    "# The correct way\n",
    "print(x, y)"
   ]
  },
  {
   "cell_type": "markdown",
   "metadata": {},
   "source": [
    "Global Variables"
   ]
  },
  {
   "cell_type": "code",
   "execution_count": 12,
   "metadata": {},
   "outputs": [
    {
     "name": "stdout",
     "output_type": "stream",
     "text": [
      "Python is awesome\n",
      "Python is fantastic\n",
      "Python is awesome\n",
      "Python is fantastic\n",
      "Python is fantastic\n"
     ]
    }
   ],
   "source": [
    "# First example\n",
    "x = \"awesome\"\n",
    "\n",
    "def myfunc():\n",
    "  print(\"Python is \" + x)\n",
    "\n",
    "myfunc()\n",
    "\n",
    "# Second example\n",
    "x = \"awesome\"\n",
    "\n",
    "def myfunc():\n",
    "  x = \"fantastic\"\n",
    "  print(\"Python is \" + x)\n",
    "\n",
    "myfunc()\n",
    "\n",
    "print(\"Python is \" + x)\n",
    "\n",
    "# with Global keyword\n",
    "def myfunc():\n",
    "  global x\n",
    "  x = \"fantastic\"\n",
    "\n",
    "myfunc()\n",
    "\n",
    "print(\"Python is \" + x)\n",
    "\n",
    "# also one example\n",
    "x = \"awesome\"\n",
    "\n",
    "def myfunc():\n",
    "  global x\n",
    "  x = \"fantastic\"\n",
    "\n",
    "myfunc()\n",
    "\n",
    "print(\"Python is \" + x)"
   ]
  },
  {
   "cell_type": "code",
   "execution_count": null,
   "metadata": {},
   "outputs": [],
   "source": [
    "# We can use type() function to print the type of data\n",
    "x = 5\n",
    "print(type(x))\n",
    "\n",
    "\n",
    "# Setting the data type\n",
    "\n",
    "x = \"Hello World\"\t                                        #str\t\n",
    "x = 20\t                                                    #int\t\n",
    "x = 20.5\t                                                #float\t\n",
    "x = 1j\t                                                    #complex\t\n",
    "x = [\"apple\", \"banana\", \"cherry\"]\t                        #list\t\n",
    "x = (\"apple\", \"banana\", \"cherry\")\t                        #tuple\t\n",
    "x = range(6)\t                                            #range\t\n",
    "x = {\"name\" : \"John\", \"age\" : 36}\t                        #dict\t\n",
    "x = {\"apple\", \"banana\", \"cherry\"}\t                        #set\t\n",
    "x = frozenset({\"apple\", \"banana\", \"cherry\"})\t            #frozenset\t\n",
    "x = True\t                                                #bool\t\n",
    "x = b\"Hello\"\t                                            #bytes\t\n",
    "x = bytearray(5)\t                                        #bytearray\t\n",
    "x = memoryview(bytes(5))\t                                #memoryview\t\n",
    "x = None\t                                                #NoneType\n",
    "\n",
    "# Setting the Specific Data Type\n",
    "x = str(\"Hello World\")\t                                    #str\t\n",
    "x = int(20)\t                                                #int\t\n",
    "x = float(20.5)\t                                            #float\t\n",
    "x = complex(1j)\t                                            #complex\t\n",
    "x = list((\"apple\", \"banana\", \"cherry\"))                     #list\t\n",
    "x = tuple((\"apple\", \"banana\", \"cherry\"))                    #tuple\t\n",
    "x = range(6)\t                                            #range\t\n",
    "x = dict(name=\"John\", age=36)\t                            #dict\t\n",
    "x = set((\"apple\", \"banana\", \"cherry\"))                      #set\t\n",
    "x = frozenset((\"apple\", \"banana\", \"cherry\"))\t            #frozenset\t\n",
    "x = bool(5)\t                                                #bool\t\n",
    "x = bytes(5)\t                                            #bytes\t\n",
    "x = bytearray(5)\t                                        #bytearray\t\n",
    "x = memoryview(bytes(5))\t                                #memoryview"
   ]
  },
  {
   "cell_type": "markdown",
   "metadata": {},
   "source": [
    "Numbers"
   ]
  },
  {
   "cell_type": "code",
   "execution_count": 13,
   "metadata": {},
   "outputs": [
    {
     "name": "stdout",
     "output_type": "stream",
     "text": [
      "<class 'int'>\n",
      "<class 'float'>\n",
      "<class 'complex'>\n",
      "<class 'int'>\n",
      "<class 'int'>\n",
      "<class 'int'>\n",
      "<class 'float'>\n",
      "<class 'float'>\n",
      "<class 'float'>\n",
      "<class 'float'>\n",
      "<class 'float'>\n",
      "<class 'float'>\n",
      "<class 'complex'>\n",
      "<class 'complex'>\n",
      "<class 'complex'>\n",
      "1.0\n",
      "2\n",
      "(1+0j)\n",
      "<class 'float'>\n",
      "<class 'int'>\n",
      "<class 'complex'>\n",
      "6\n"
     ]
    }
   ],
   "source": [
    "x = 1    # int\n",
    "y = 2.8  # float\n",
    "z = 1j   # complex\n",
    "\n",
    "print(type(x))      # int\n",
    "print(type(y))      # float\n",
    "print(type(z))      # complex\n",
    "\n",
    "# Int\n",
    "x = 1\n",
    "y = 35656222554887711\n",
    "z = -3255522\n",
    "\n",
    "print(type(x))\n",
    "print(type(y))\n",
    "print(type(z))\n",
    "\n",
    "# Float\n",
    "x = 1.10\n",
    "y = 1.0\n",
    "z = -35.59\n",
    "\n",
    "print(type(x))\n",
    "print(type(y))\n",
    "print(type(z))\n",
    "\n",
    "# Also float\n",
    "x = 35e3\n",
    "y = 12E4\n",
    "z = -87.7e100\n",
    "\n",
    "print(type(x))\n",
    "print(type(y))\n",
    "print(type(z))\n",
    "\n",
    "# Complex\n",
    "x = 3+5j\n",
    "y = 5j\n",
    "z = -5j\n",
    "\n",
    "print(type(x))\n",
    "print(type(y))\n",
    "print(type(z))\n",
    "\n",
    "# Type conversion\n",
    "x = 1    # int\n",
    "y = 2.8  # float\n",
    "z = 1j   # complex\n",
    "\n",
    "#convert from int to float:\n",
    "a = float(x)\n",
    "\n",
    "#convert from float to int:\n",
    "b = int(y)\n",
    "\n",
    "#convert from int to complex:\n",
    "c = complex(x)\n",
    "\n",
    "print(a)\n",
    "print(b)\n",
    "print(c)\n",
    "\n",
    "print(type(a))\n",
    "print(type(b))\n",
    "print(type(c))\n",
    "\n",
    "# Random number\n",
    "import random\n",
    "\n",
    "print(random.randrange(1, 10))"
   ]
  },
  {
   "cell_type": "markdown",
   "metadata": {},
   "source": [
    "Casting"
   ]
  },
  {
   "cell_type": "code",
   "execution_count": 14,
   "metadata": {},
   "outputs": [],
   "source": [
    "# First example\n",
    "x = int(1)   # x will be 1\n",
    "y = int(2.8) # y will be 2\n",
    "z = int(\"3\") # z will be 3\n",
    "\n",
    "# Second example\n",
    "x = float(1)     # x will be 1.0\n",
    "y = float(2.8)   # y will be 2.8\n",
    "z = float(\"3\")   # z will be 3.0\n",
    "w = float(\"4.2\") # w will be 4.2\n",
    "\n",
    "# Third example\n",
    "x = str(\"s1\") # x will be 's1'\n",
    "y = str(2)    # y will be '2'\n",
    "z = str(3.0)  # z will be '3.0'"
   ]
  },
  {
   "cell_type": "markdown",
   "metadata": {},
   "source": [
    "Strings"
   ]
  },
  {
   "cell_type": "code",
   "execution_count": 15,
   "metadata": {},
   "outputs": [
    {
     "name": "stdout",
     "output_type": "stream",
     "text": [
      "Hello\n",
      "Hello\n",
      "It's alright\n",
      "He is called 'Johnny'\n",
      "He is called \"Johnny\"\n",
      "Hello\n",
      "Lorem ipsum dolor sit amet,\n",
      "consectetur adipiscing elit,\n",
      "sed do eiusmod tempor incididunt\n",
      "ut labore et dolore magna aliqua.\n",
      "Lorem ipsum dolor sit amet,\n",
      "consectetur adipiscing elit,\n",
      "sed do eiusmod tempor incididunt\n",
      "ut labore et dolore magna aliqua.\n",
      "e\n",
      "b\n",
      "a\n",
      "n\n",
      "a\n",
      "n\n",
      "a\n",
      "13\n",
      "True\n",
      "Yes, 'free' is present.\n",
      "True\n",
      "No, 'expensive' is NOT present.\n"
     ]
    }
   ],
   "source": [
    "print(\"Hello\")\n",
    "print('Hello')  # There're same str\n",
    "\n",
    "# Quotes Inside Quotes \n",
    "print(\"It's alright\")\n",
    "print(\"He is called 'Johnny'\")\n",
    "print('He is called \"Johnny\"')\n",
    "\n",
    "# Assign String to a Variable\n",
    "a = \"Hello\"\n",
    "print(a)\n",
    "\n",
    "# Multiline Strings\n",
    "a = \"\"\"Lorem ipsum dolor sit amet,\n",
    "consectetur adipiscing elit,\n",
    "sed do eiusmod tempor incididunt\n",
    "ut labore et dolore magna aliqua.\"\"\"\n",
    "print(a)\n",
    "\n",
    "a = '''Lorem ipsum dolor sit amet,\n",
    "consectetur adipiscing elit,\n",
    "sed do eiusmod tempor incididunt\n",
    "ut labore et dolore magna aliqua.'''\n",
    "print(a)\n",
    "\n",
    "# Strings are Arrays\n",
    "a = \"Hello, World!\"\n",
    "print(a[1])\n",
    "\n",
    "# Looping Through a String\n",
    "for x in \"banana\":\n",
    "    print(x)\n",
    "\n",
    "# String Length\n",
    "a = \"Hello, World!\"\n",
    "print(len(a))\n",
    "\n",
    "# Check String\n",
    "txt = \"The best things in life are free!\"\n",
    "print(\"free\" in txt)\n",
    "\n",
    "if \"free\" in txt:\n",
    "    print(\"Yes, 'free' is present.\")\n",
    "\n",
    "# Check if NOT\n",
    "print(\"expensive\" not in txt)\n",
    "\n",
    "if \"expensive\" not in txt:\n",
    "    print(\"No, 'expensive' is NOT present.\")  "
   ]
  },
  {
   "cell_type": "markdown",
   "metadata": {},
   "source": [
    "Slicing Strings"
   ]
  },
  {
   "cell_type": "code",
   "execution_count": 16,
   "metadata": {},
   "outputs": [
    {
     "name": "stdout",
     "output_type": "stream",
     "text": [
      "llo\n",
      "Hello\n",
      "llo, World!\n",
      "orl\n"
     ]
    }
   ],
   "source": [
    "# Slicing\n",
    "b = \"Hello, World!\"\n",
    "print(b[2:5])\n",
    "\n",
    "# Slice From the Start\n",
    "print(b[:5])\n",
    "\n",
    "# Slice To the End\n",
    "print(b[2:])\n",
    "\n",
    "# Negative Indexing\n",
    "print(b[-5:-2])"
   ]
  },
  {
   "cell_type": "markdown",
   "metadata": {},
   "source": [
    "Modify Strings"
   ]
  },
  {
   "cell_type": "code",
   "execution_count": 17,
   "metadata": {},
   "outputs": [
    {
     "name": "stdout",
     "output_type": "stream",
     "text": [
      "HELLO, WORLD!\n",
      "hello, world!\n",
      "Hello, Wolrd!\n",
      "Jello, World!\n",
      "['Hello', ' World!']\n"
     ]
    }
   ],
   "source": [
    "# Upper Case\n",
    "a = \"Hello, World!\"\n",
    "print(a.upper())\n",
    "\n",
    "# Lower Case\n",
    "print(a.lower())\n",
    "\n",
    "# Remove Whitespace\n",
    "a = \" Hello, Wolrd! \"\n",
    "print(a.strip()) # returns \"Hello, World!\"\n",
    "\n",
    "# Replace String\n",
    "a = \"Hello, World!\"\n",
    "print(a.replace(\"H\", \"J\"))\n",
    "\n",
    "# Split String\n",
    "a = \"Hello, World!\"\n",
    "print(a.split(\",\"))     # returns ['Hello', 'World!'] "
   ]
  },
  {
   "cell_type": "markdown",
   "metadata": {},
   "source": [
    "Concatenate Strings"
   ]
  },
  {
   "cell_type": "code",
   "execution_count": 18,
   "metadata": {},
   "outputs": [
    {
     "name": "stdout",
     "output_type": "stream",
     "text": [
      "HelloWorld\n",
      "Hello World\n"
     ]
    }
   ],
   "source": [
    "# String Concatenation\n",
    "a = \"Hello\"\n",
    "b = \"World\"\n",
    "c = a + b\n",
    "print(c)    # will return HelloWorld\n",
    "\n",
    "c = a + \" \" + b\n",
    "print(c)    # will return Hello World"
   ]
  },
  {
   "cell_type": "markdown",
   "metadata": {},
   "source": [
    "Format Strings"
   ]
  },
  {
   "cell_type": "code",
   "execution_count": 19,
   "metadata": {},
   "outputs": [
    {
     "ename": "TypeError",
     "evalue": "can only concatenate str (not \"int\") to str",
     "output_type": "error",
     "traceback": [
      "\u001b[0;31m---------------------------------------------------------------------------\u001b[0m",
      "\u001b[0;31mTypeError\u001b[0m                                 Traceback (most recent call last)",
      "Cell \u001b[0;32mIn[19], line 4\u001b[0m\n\u001b[1;32m      1\u001b[0m \u001b[38;5;66;03m# String Format\u001b[39;00m\n\u001b[1;32m      3\u001b[0m age \u001b[38;5;241m=\u001b[39m \u001b[38;5;241m36\u001b[39m \n\u001b[0;32m----> 4\u001b[0m txt \u001b[38;5;241m=\u001b[39m \u001b[38;5;124;43m\"\u001b[39;49m\u001b[38;5;124;43mMy name is John, I am \u001b[39;49m\u001b[38;5;124;43m\"\u001b[39;49m\u001b[43m \u001b[49m\u001b[38;5;241;43m+\u001b[39;49m\u001b[43m \u001b[49m\u001b[43mage\u001b[49m\n\u001b[1;32m      5\u001b[0m \u001b[38;5;28mprint\u001b[39m(txt)  \u001b[38;5;66;03m# error\u001b[39;00m\n\u001b[1;32m      7\u001b[0m \u001b[38;5;66;03m# F-Strings\u001b[39;00m\n",
      "\u001b[0;31mTypeError\u001b[0m: can only concatenate str (not \"int\") to str"
     ]
    }
   ],
   "source": [
    "# String Format\n",
    "\n",
    "age = 36 \n",
    "txt = \"My name is John, I am \" + age\n",
    "print(txt)  # error\n",
    "\n",
    "# F-Strings\n",
    "age = 36 \n",
    "txt = f\"My name is John, I am {age}\"\n",
    "print(txt)\n",
    "\n",
    "# Placeholders and Modifiers\n",
    "price = 59 \n",
    "txt = f\"The price is {price} dollars\"\n",
    "print(txt)\n",
    "\n",
    "price = 59 \n",
    "txt = \"The price is {price:2f} dollars\"\n",
    "\n",
    "txt = f\"The price is {20 * 59} dollars\"\n",
    "print(txt)"
   ]
  },
  {
   "cell_type": "markdown",
   "metadata": {},
   "source": [
    "Escape Characters\n",
    "\n",
    "\\': Single Quote\n",
    "\\: Backslash\n",
    "\\n: New Line\n",
    "\\r: Carriage Return\n",
    "\\t: Tab\n",
    "\\b: Backspace\n",
    "\\f: Form Feed\n",
    "\\ooo: Octal value\n",
    "\\xhh: Hex value"
   ]
  },
  {
   "cell_type": "code",
   "execution_count": null,
   "metadata": {},
   "outputs": [],
   "source": [
    "txt = \"We are the so-called \"Vikings\" from the north.\""
   ]
  },
  {
   "cell_type": "code",
   "execution_count": null,
   "metadata": {},
   "outputs": [],
   "source": [
    "txt = \"We are the so-called \\\"Vikings\\\" from the north.\""
   ]
  },
  {
   "cell_type": "markdown",
   "metadata": {},
   "source": [
    "String Methods\n",
    "\n",
    "capitalize(): Converts the first character to upper case\n",
    "casefold(): Converts string into lower case\n",
    "center(): Returns a centered string\n",
    "count(): Returns the number of times a specified value occurs in a string\n",
    "encode(): Returns an encoded version of the string\n",
    "endswith(): Returns true if the string ends with the specified value\n",
    "expandtabs(): Sets the tab size of the string\n",
    "find(): Searches the string for a specified value and returns the position of where it was found\n",
    "format(): Formats specified values in a string\n",
    "format_map(): Formats specified values in a string\n",
    "index(): Searches the string for a specified value and returns the position of where it was found\n",
    "isalnum(): Returns True if all characters in the string are alphanumeric\n",
    "isalpha(): Returns True if all characters in the string are in the alphabet\n",
    "isascii(): Returns True if all characters in the string are ascii characters\n",
    "isdecimal(): Returns True if all characters in the string are decimals\n",
    "isdigit(): Returns True if all characters in the string are digits\n",
    "isidentifier(): Returns True if the string is an identifier\n",
    "islower(): Returns True if all characters in the string are lower case\n",
    "isnumeric(): Returns True if all characters in the string are numeric\n",
    "isprintable(): Returns True if all characters in the string are printable\n",
    "isspace(): Returns True if all characters in the string are whitespaces\n",
    "istitle(): Returns True if the string follows the rules of a title\n",
    "isupper(): Returns True if all characters in the string are upper case\n",
    "join(): Joins the elements of an iterable to the end of the string\n",
    "ljust(): Returns a left justified version of the string\n",
    "lower(): Converts a string into lower case\n",
    "lstrip(): Returns a left trim version of the string\n",
    "maketrans(): Returns a translation table to be used in translations\n",
    "partition(): Returns a tuple where the string is parted into three parts\n",
    "replace(): Returns a string where a specified value is replaced with a specified value\n",
    "rfind(): Searches the string for a specified value and returns the last position of where it was found\n",
    "rindex(): Searches the string for a specified value and returns the last position of where it was found\n",
    "rjust(): Returns a right justified version of the string\n",
    "rpartition(): Returns a tuple where the string is parted into three parts\n",
    "rsplit(): Splits the string at the specified separator, and returns a list\n",
    "rstrip(): Returns a right trim version of the string\n",
    "split(): Splits the string at the specified separator, and returns a list\n",
    "splitlines(): Splits the string at line breaks and returns a list\n",
    "startswith(): Returns true if the string starts with the specified value\n",
    "strip(): Returns a trimmed version of the string\n",
    "swapcase(): Swaps cases, lower case becomes upper case and vice versa\n",
    "title(): Converts the first character of each word to upper case\n",
    "translate(): Returns a translated string\n",
    "upper(): Converts a string into upper case\n",
    "zfill(): Fills the string with a specified number of 0 values at the beginning"
   ]
  }
 ],
 "metadata": {
  "kernelspec": {
   "display_name": "Python 3",
   "language": "python",
   "name": "python3"
  },
  "language_info": {
   "codemirror_mode": {
    "name": "ipython",
    "version": 3
   },
   "file_extension": ".py",
   "mimetype": "text/x-python",
   "name": "python",
   "nbconvert_exporter": "python",
   "pygments_lexer": "ipython3",
   "version": "3.9.6"
  }
 },
 "nbformat": 4,
 "nbformat_minor": 2
}
