{
 "cells": [
  {
   "cell_type": "markdown",
   "metadata": {},
   "source": [
    "# Python RegEx exercises"
   ]
  },
  {
   "cell_type": "code",
   "execution_count": 53,
   "metadata": {},
   "outputs": [
    {
     "name": "stdout",
     "output_type": "stream",
     "text": [
      "Matches for 'a' followed by zero or more 'b's: ['ab', 'abb', 'a', 'a', 'ab', 'a', 'a']\n"
     ]
    }
   ],
   "source": [
    "import re  # Import the regular expression module\n",
    "\n",
    "# Open and read the content of row.txt\n",
    "with open(\"row.txt\", \"r\", encoding=\"utf-8\") as file:\n",
    "    content = file.read()\n",
    "\n",
    "# Define the regex pattern: 'a' followed by zero or more 'b's\n",
    "pattern = r'ab*'\n",
    "\n",
    "# Find all matches in the text\n",
    "matches = re.findall(pattern, content)\n",
    "\n",
    "# Print the result\n",
    "print(\"Matches for 'a' followed by zero or more 'b's:\", matches)\n",
    "\n"
   ]
  },
  {
   "cell_type": "code",
   "execution_count": 54,
   "metadata": {},
   "outputs": [
    {
     "name": "stdout",
     "output_type": "stream",
     "text": [
      "Matches for 'a' followed by two to three 'b's: ['abb']\n"
     ]
    }
   ],
   "source": [
    "import re\n",
    "\n",
    "with open(\"row.txt\", \"r\", encoding=\"utf-8\") as file:\n",
    "    content = file.read()\n",
    "\n",
    "# Define the pattern: 'a' followed by exactly 2 or 3 'b's\n",
    "pattern = r'ab{2,3}'\n",
    "\n",
    "# Find all matches\n",
    "matches = re.findall(pattern, content)\n",
    "\n",
    "print(\"Matches for 'a' followed by two to three 'b's:\", matches)\n"
   ]
  },
  {
   "cell_type": "code",
   "execution_count": 55,
   "metadata": {},
   "outputs": [
    {
     "name": "stdout",
     "output_type": "stream",
     "text": [
      "Sequences of lowercase letters joined with an underscore: ['hello_world', 'this_is', 'a_test', 'hello_world']\n"
     ]
    }
   ],
   "source": [
    "import re\n",
    "\n",
    "with open(\"row.txt\", \"r\", encoding=\"utf-8\") as file:\n",
    "    content = file.read()\n",
    "\n",
    "# Define the pattern: lowercase letters connected by an underscore\n",
    "pattern = r'[a-z]+_[a-z]+'\n",
    "\n",
    "# Find all matches in the text\n",
    "matches = re.findall(pattern, content)\n",
    "\n",
    "print(\"Sequences of lowercase letters joined with an underscore:\", matches)\n"
   ]
  },
  {
   "cell_type": "code",
   "execution_count": 56,
   "metadata": {},
   "outputs": [
    {
     "name": "stdout",
     "output_type": "stream",
     "text": [
      "Uppercase letter followed by lowercase letters: ['Hello', 'World', 'Test', 'Hello', 'World', 'How', 'Hello', 'World', 'Test', 'World', 'Test']\n"
     ]
    }
   ],
   "source": [
    "import re\n",
    "\n",
    "with open(\"row.txt\", \"r\", encoding=\"utf-8\") as file:\n",
    "    content = file.read()\n",
    "\n",
    "# Define the pattern: one uppercase letter followed by one or more lowercase letters\n",
    "pattern = r'[A-Z][a-z]+'\n",
    "\n",
    "# Find all matches\n",
    "matches = re.findall(pattern, content)\n",
    "\n",
    "print(\"Uppercase letter followed by lowercase letters:\", matches)\n",
    "\n"
   ]
  },
  {
   "cell_type": "code",
   "execution_count": 57,
   "metadata": {},
   "outputs": [
    {
     "name": "stdout",
     "output_type": "stream",
     "text": [
      "Matches for 'a' followed by anything, ending in 'b': ['ab', 'abb', 'axb', 'ab']\n"
     ]
    }
   ],
   "source": [
    "import re\n",
    "\n",
    "with open(\"row.txt\", \"r\", encoding=\"utf-8\") as file:\n",
    "    content = file.read()\n",
    "\n",
    "# Define the pattern: 'a' followed by any characters, then ending with 'b'\n",
    "pattern = r'a.*b'\n",
    "\n",
    "# Find all matches\n",
    "matches = re.findall(pattern, content)\n",
    "\n",
    "print(\"Matches for 'a' followed by anything, ending in 'b':\", matches)\n"
   ]
  },
  {
   "cell_type": "code",
   "execution_count": 58,
   "metadata": {},
   "outputs": [
    {
     "name": "stdout",
     "output_type": "stream",
     "text": [
      "Text after replacing spaces, commas, or dots with colons:\n",
      " ab\n",
      "abb\n",
      "hello_world:this_is_a_test\n",
      "Hello:World:Test123\n",
      "axb\n",
      "ab\n",
      "ac\n",
      "Hello::World::How:are:you?\n",
      "hello_world_test\n",
      "HelloWorldTest\n",
      "helloWorldTest\n"
     ]
    }
   ],
   "source": [
    "import re\n",
    "\n",
    "with open(\"row.txt\", \"r\", encoding=\"utf-8\") as file:\n",
    "    content = file.read()\n",
    "\n",
    "# Define the pattern to match spaces, commas, and dots\n",
    "pattern = r'[ ,.]'\n",
    "\n",
    "# Replace them with colons\n",
    "modified_text = re.sub(pattern, ':', content)\n",
    "\n",
    "print(\"Text after replacing spaces, commas, or dots with colons:\\n\", modified_text)\n"
   ]
  },
  {
   "cell_type": "code",
   "execution_count": 59,
   "metadata": {},
   "outputs": [
    {
     "name": "stdout",
     "output_type": "stream",
     "text": [
      "Converted snake_case to camelCase: ab\n",
      "abb\n",
      "helloWorld thisIsATest\n",
      "Hello World Test123\n",
      "axb\n",
      "ab\n",
      "ac\n",
      "Hello, World. How are you?\n",
      "helloWorldTest\n",
      "HelloWorldTest\n",
      "helloWorldTest\n"
     ]
    }
   ],
   "source": [
    "import re\n",
    "\n",
    "with open(\"row.txt\", \"r\", encoding=\"utf-8\") as file:\n",
    "    content = file.read()\n",
    "\n",
    "# Define the pattern: underscore followed by a lowercase letter\n",
    "pattern = r'_([a-z])'\n",
    "\n",
    "# Convert to camelCase by removing underscores and capitalizing the letter after them\n",
    "converted_text = re.sub(pattern, lambda m: m.group(1).upper(), content)\n",
    "\n",
    "print(\"Converted snake_case to camelCase:\", converted_text)\n"
   ]
  },
  {
   "cell_type": "code",
   "execution_count": 60,
   "metadata": {},
   "outputs": [
    {
     "name": "stdout",
     "output_type": "stream",
     "text": [
      "Splitting text at uppercase letters: ['ab\\nabb\\nhello_world this_is_a_test\\n', 'Hello ', 'World ', 'Test123\\naxb\\nab\\nac\\n', 'Hello, ', 'World. ', 'How are you?\\nhello_world_test\\n', 'Hello', 'World', 'Test\\nhello', 'World', 'Test']\n"
     ]
    }
   ],
   "source": [
    "import re\n",
    "\n",
    "with open(\"row.txt\", \"r\", encoding=\"utf-8\") as file:\n",
    "    content = file.read()\n",
    "\n",
    "# Define the pattern: split at uppercase letters (without removing them)\n",
    "pattern = r'(?=[A-Z])'\n",
    "\n",
    "# Split the string\n",
    "split_text = re.split(pattern, content)\n",
    "\n",
    "print(\"Splitting text at uppercase letters:\", split_text)\n"
   ]
  },
  {
   "cell_type": "code",
   "execution_count": 61,
   "metadata": {},
   "outputs": [
    {
     "name": "stdout",
     "output_type": "stream",
     "text": [
      "Text after inserting spaces between words starting with capital letters:\n",
      " ab\n",
      "abb\n",
      "hello_world this_is_a_test\n",
      " Hello  World  Test123\n",
      "axb\n",
      "ab\n",
      "ac\n",
      " Hello,  World.  How are you?\n",
      "hello_world_test\n",
      " Hello World Test\n",
      "hello World Test\n"
     ]
    }
   ],
   "source": [
    "import re\n",
    "\n",
    "with open(\"row.txt\", \"r\", encoding=\"utf-8\") as file:\n",
    "    content = file.read()\n",
    "\n",
    "# Define the pattern: insert space before an uppercase letter (except at the start)\n",
    "pattern = r'(?<!^)(?=[A-Z])'\n",
    "\n",
    "# Insert spaces\n",
    "modified_text = re.sub(pattern, ' ', content)\n",
    "\n",
    "print(\"Text after inserting spaces between words starting with capital letters:\\n\", modified_text)\n"
   ]
  },
  {
   "cell_type": "code",
   "execution_count": 62,
   "metadata": {},
   "outputs": [
    {
     "name": "stdout",
     "output_type": "stream",
     "text": [
      "Converted camelCase to snake_case: ab\n",
      "abb\n",
      "hello_world this_is_a_test\n",
      "_hello _world _test123\n",
      "axb\n",
      "ab\n",
      "ac\n",
      "_hello, _world. _how are you?\n",
      "hello_world_test\n",
      "_hello_world_test\n",
      "hello_world_test\n"
     ]
    }
   ],
   "source": [
    "import re\n",
    "\n",
    "with open(\"row.txt\", \"r\", encoding=\"utf-8\") as file:\n",
    "    content = file.read()\n",
    "\n",
    "# Define the pattern: find uppercase letters and replace them with '_letter' in lowercase\n",
    "pattern = r'([A-Z])'\n",
    "\n",
    "# Convert camelCase to snake_case\n",
    "converted_text = re.sub(pattern, r'_\\1', content).lower().lstrip('_')\n",
    "\n",
    "print(\"Converted camelCase to snake_case:\", converted_text)\n"
   ]
  }
 ],
 "metadata": {
  "kernelspec": {
   "display_name": "Python 3",
   "language": "python",
   "name": "python3"
  },
  "language_info": {
   "codemirror_mode": {
    "name": "ipython",
    "version": 3
   },
   "file_extension": ".py",
   "mimetype": "text/x-python",
   "name": "python",
   "nbconvert_exporter": "python",
   "pygments_lexer": "ipython3",
   "version": "3.9.6"
  }
 },
 "nbformat": 4,
 "nbformat_minor": 2
}
