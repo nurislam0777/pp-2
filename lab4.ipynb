{
 "cells": [
  {
   "cell_type": "markdown",
   "metadata": {},
   "source": [
    "# Python date"
   ]
  },
  {
   "cell_type": "code",
   "execution_count": 12,
   "metadata": {},
   "outputs": [
    {
     "name": "stdout",
     "output_type": "stream",
     "text": [
      "Current Date: 2025-02-21\n",
      "Date 5 Days Ago: 2025-02-16\n"
     ]
    }
   ],
   "source": [
    "from datetime import datetime, timedelta  # Import datetime and timedelta modules\n",
    "\n",
    "# Get the current date and time\n",
    "current_date = datetime.today()\n",
    "\n",
    "# Subtract 5 days from the current date\n",
    "new_date = current_date - timedelta(days=5)\n",
    "\n",
    "# Print the results\n",
    "print(\"Current Date:\", current_date.strftime(\"%Y-%m-%d\"))  # Format the date as YYYY-MM-DD\n",
    "print(\"Date 5 Days Ago:\", new_date.strftime(\"%Y-%m-%d\"))\n",
    "\n"
   ]
  },
  {
   "cell_type": "code",
   "execution_count": 13,
   "metadata": {},
   "outputs": [
    {
     "name": "stdout",
     "output_type": "stream",
     "text": [
      "Yesterday: 2025-02-20\n",
      "Today: 2025-02-21\n",
      "Tomorrow: 2025-02-22\n"
     ]
    }
   ],
   "source": [
    "\n",
    "from datetime import datetime, timedelta  # Import required modules\n",
    "\n",
    "# Get today's date\n",
    "today = datetime.today()\n",
    "\n",
    "# Calculate yesterday by subtracting 1 day\n",
    "yesterday = today - timedelta(days=1)\n",
    "\n",
    "# Calculate tomorrow by adding 1 day\n",
    "tomorrow = today + timedelta(days=1)\n",
    "\n",
    "# Print the results in YYYY-MM-DD format\n",
    "print(\"Yesterday:\", yesterday.strftime(\"%Y-%m-%d\"))\n",
    "print(\"Today:\", today.strftime(\"%Y-%m-%d\"))\n",
    "print(\"Tomorrow:\", tomorrow.strftime(\"%Y-%m-%d\"))\n"
   ]
  },
  {
   "cell_type": "code",
   "execution_count": 14,
   "metadata": {},
   "outputs": [
    {
     "name": "stdout",
     "output_type": "stream",
     "text": [
      "Original Datetime: 2025-02-21 20:11:04.155176\n",
      "Datetime without Microseconds: 2025-02-21 20:11:04\n"
     ]
    }
   ],
   "source": [
    "\n",
    "from datetime import datetime  # Import datetime module\n",
    "\n",
    "# Get the current date and time with microseconds\n",
    "now = datetime.now()\n",
    "\n",
    "# Remove microseconds by setting them to 0\n",
    "without_microseconds = now.replace(microsecond=0)\n",
    "\n",
    "# Print the results\n",
    "print(\"Original Datetime:\", now)  # Display original datetime with microseconds\n",
    "print(\"Datetime without Microseconds:\", without_microseconds)  # Display cleaned datetime\n"
   ]
  },
  {
   "cell_type": "code",
   "execution_count": 15,
   "metadata": {},
   "outputs": [
    {
     "name": "stdout",
     "output_type": "stream",
     "text": [
      "Difference in Seconds: 441000.0\n"
     ]
    }
   ],
   "source": [
    "from datetime import datetime  # Import datetime module\n",
    "\n",
    "# Define two example dates (YYYY, MM, DD, HH, MM, SS)\n",
    "date1 = datetime(2024, 2, 10, 12, 0, 0)  # Feb 10, 2024, at 12:00:00\n",
    "date2 = datetime(2024, 2, 15, 14, 30, 0)  # Feb 15, 2024, at 14:30:00\n",
    "\n",
    "# Calculate the absolute difference in seconds\n",
    "difference = abs((date2 - date1).total_seconds())\n",
    "\n",
    "# Print the difference\n",
    "print(\"Difference in Seconds:\", difference)\n"
   ]
  },
  {
   "cell_type": "markdown",
   "metadata": {},
   "source": [
    "# Python iterators and generators"
   ]
  },
  {
   "cell_type": "code",
   "execution_count": 16,
   "metadata": {},
   "outputs": [
    {
     "name": "stdout",
     "output_type": "stream",
     "text": [
      "1 4 9 16 25 "
     ]
    }
   ],
   "source": [
    "def square_generator(N):\n",
    "    \"\"\"Generator that yields squares of numbers from 1 to N.\"\"\"\n",
    "    for i in range(1, N + 1):\n",
    "        yield i ** 2  # Yield the square of the number\n",
    "\n",
    "# Example usage\n",
    "N = 5\n",
    "for square in square_generator(N):\n",
    "    print(square, end=\" \")  # Output: 1 4 9 16 25\n"
   ]
  },
  {
   "cell_type": "code",
   "execution_count": 17,
   "metadata": {},
   "outputs": [
    {
     "name": "stdout",
     "output_type": "stream",
     "text": [
      "0,2,4,6\n"
     ]
    }
   ],
   "source": [
    "def even_numbers(n):\n",
    "    \"\"\"Generator that yields even numbers between 0 and n.\"\"\"\n",
    "    for num in range(0, n + 1, 2):  # Step by 2 to get even numbers\n",
    "        yield num\n",
    "\n",
    "# Get input from user\n",
    "n = int(input(\"Enter a number: \"))\n",
    "\n",
    "# Print even numbers as comma-separated values\n",
    "print(\",\".join(map(str, even_numbers(n))))\n"
   ]
  },
  {
   "cell_type": "code",
   "execution_count": 18,
   "metadata": {},
   "outputs": [
    {
     "name": "stdout",
     "output_type": "stream",
     "text": [
      "0 "
     ]
    }
   ],
   "source": [
    "def divisible_by_3_and_4(n):\n",
    "    \"\"\"Generator that yields numbers divisible by both 3 and 4.\"\"\"\n",
    "    for num in range(n + 1):\n",
    "        if num % 3 == 0 and num % 4 == 0:\n",
    "            yield num\n",
    "\n",
    "# Example usage\n",
    "n = int(input(\"Enter a number: \"))\n",
    "for num in divisible_by_3_and_4(n):\n",
    "    print(num, end=\" \")  # Prints numbers divisible by both 3 and 4\n"
   ]
  },
  {
   "cell_type": "code",
   "execution_count": 19,
   "metadata": {},
   "outputs": [
    {
     "name": "stdout",
     "output_type": "stream",
     "text": [
      "9 16 25 36 49 "
     ]
    }
   ],
   "source": [
    "def squares(a, b):\n",
    "    \"\"\"Generator that yields squares of numbers from a to b.\"\"\"\n",
    "    for num in range(a, b + 1):\n",
    "        yield num ** 2\n",
    "\n",
    "# Example usage\n",
    "a, b = 3, 7\n",
    "for square in squares(a, b):\n",
    "    print(square, end=\" \")  # Output: 9 16 25 36 49\n"
   ]
  },
  {
   "cell_type": "code",
   "execution_count": 20,
   "metadata": {},
   "outputs": [
    {
     "name": "stdout",
     "output_type": "stream",
     "text": [
      "5 4 3 2 1 0 "
     ]
    }
   ],
   "source": [
    "def countdown(n):\n",
    "    \"\"\"Generator that yields numbers from n down to 0.\"\"\"\n",
    "    while n >= 0:\n",
    "        yield n\n",
    "        n -= 1\n",
    "\n",
    "# Example usage\n",
    "n = 5\n",
    "for num in countdown(n):\n",
    "    print(num, end=\" \")  # Output: 5 4 3 2 1 0\n"
   ]
  },
  {
   "cell_type": "markdown",
   "metadata": {},
   "source": [
    "# Python Math library"
   ]
  },
  {
   "cell_type": "code",
   "execution_count": 21,
   "metadata": {},
   "outputs": [
    {
     "name": "stdout",
     "output_type": "stream",
     "text": [
      "Input degree: 15\n",
      "Output radian: 0.261799\n"
     ]
    }
   ],
   "source": [
    "import math  # Import math library\n",
    "\n",
    "def degree_to_radian(degree):\n",
    "    \"\"\"Convert degree to radian.\"\"\"\n",
    "    return degree * (math.pi / 180)  # Formula: radians = degrees × (π / 180)\n",
    "\n",
    "# Input\n",
    "degree = 15\n",
    "radian = degree_to_radian(degree)\n",
    "\n",
    "# Output\n",
    "print(f\"Input degree: {degree}\")\n",
    "print(f\"Output radian: {radian:.6f}\")  # Format to 6 decimal places\n"
   ]
  },
  {
   "cell_type": "code",
   "execution_count": 22,
   "metadata": {},
   "outputs": [
    {
     "name": "stdout",
     "output_type": "stream",
     "text": [
      "Height: 5\n",
      "Base, first value: 5\n",
      "Base, second value: 6\n",
      "Expected Output: 27.5\n"
     ]
    }
   ],
   "source": [
    "def trapezoid_area(height, base1, base2):\n",
    "    \"\"\"Calculate the area of a trapezoid.\"\"\"\n",
    "    return (1/2) * (base1 + base2) * height  # Formula: (1/2) * (b1 + b2) * h\n",
    "\n",
    "# Inputs\n",
    "height = 5\n",
    "base1 = 5\n",
    "base2 = 6\n",
    "\n",
    "# Calculate area\n",
    "area = trapezoid_area(height, base1, base2)\n",
    "\n",
    "# Output\n",
    "print(f\"Height: {height}\")\n",
    "print(f\"Base, first value: {base1}\")\n",
    "print(f\"Base, second value: {base2}\")\n",
    "print(f\"Expected Output: {area}\")\n"
   ]
  },
  {
   "cell_type": "code",
   "execution_count": 23,
   "metadata": {},
   "outputs": [
    {
     "name": "stdout",
     "output_type": "stream",
     "text": [
      "Input number of sides: 4\n",
      "Input the length of a side: 25\n",
      "The area of the polygon is: 625.00\n"
     ]
    }
   ],
   "source": [
    "import math\n",
    "\n",
    "def regular_polygon_area(sides, side_length):\n",
    "    \"\"\"Calculate the area of a regular polygon.\"\"\"\n",
    "    return (sides * (side_length ** 2)) / (4 * math.tan(math.pi / sides))  # Formula: (n × s²) / (4 × tan(π / n))\n",
    "\n",
    "# Inputs\n",
    "sides = 4\n",
    "side_length = 25\n",
    "\n",
    "# Calculate area\n",
    "area = regular_polygon_area(sides, side_length)\n",
    "\n",
    "# Output\n",
    "print(f\"Input number of sides: {sides}\")\n",
    "print(f\"Input the length of a side: {side_length}\")\n",
    "print(f\"The area of the polygon is: {area:.2f}\")\n"
   ]
  },
  {
   "cell_type": "code",
   "execution_count": 24,
   "metadata": {},
   "outputs": [
    {
     "name": "stdout",
     "output_type": "stream",
     "text": [
      "Length of base: 5\n",
      "Height of parallelogram: 6\n",
      "Expected Output: 30\n"
     ]
    }
   ],
   "source": [
    "def parallelogram_area(base, height):\n",
    "    \"\"\"Calculate the area of a parallelogram.\"\"\"\n",
    "    return base * height  # Formula: base × height\n",
    "\n",
    "# Inputs\n",
    "base = 5\n",
    "height = 6\n",
    "\n",
    "# Calculate area\n",
    "area = parallelogram_area(base, height)\n",
    "\n",
    "# Output\n",
    "print(f\"Length of base: {base}\")\n",
    "print(f\"Height of parallelogram: {height}\")\n",
    "print(f\"Expected Output: {area}\")\n"
   ]
  }
 ],
 "metadata": {
  "kernelspec": {
   "display_name": "Python 3",
   "language": "python",
   "name": "python3"
  },
  "language_info": {
   "codemirror_mode": {
    "name": "ipython",
    "version": 3
   },
   "file_extension": ".py",
   "mimetype": "text/x-python",
   "name": "python",
   "nbconvert_exporter": "python",
   "pygments_lexer": "ipython3",
   "version": "3.9.6"
  }
 },
 "nbformat": 4,
 "nbformat_minor": 2
}
