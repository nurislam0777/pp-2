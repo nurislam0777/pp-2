{
 "cells": [
  {
   "cell_type": "markdown",
   "metadata": {},
   "source": [
    "# Functions 1"
   ]
  },
  {
   "cell_type": "code",
   "execution_count": 1,
   "metadata": {},
   "outputs": [
    {
     "name": "stdout",
     "output_type": "stream",
     "text": [
      "2834.9523099999997\n"
     ]
    }
   ],
   "source": [
    "# 1\n",
    "def converter(grams):\n",
    "    return 28.3495231 * grams\n",
    "\n",
    "print(converter(100))\n"
   ]
  },
  {
   "cell_type": "code",
   "execution_count": 2,
   "metadata": {},
   "outputs": [
    {
     "name": "stdout",
     "output_type": "stream",
     "text": [
      "37.77777777777778\n"
     ]
    }
   ],
   "source": [
    "# 2\n",
    "def temp(f):\n",
    "    return (5 / 9) * (f - 32)\n",
    "\n",
    "print(temp(100))"
   ]
  },
  {
   "cell_type": "code",
   "execution_count": 16,
   "metadata": {},
   "outputs": [
    {
     "name": "stdout",
     "output_type": "stream",
     "text": [
      "(23, 12)\n"
     ]
    }
   ],
   "source": [
    "# 3\n",
    "def solve(numheads, numlegs):\n",
    "    for chickens in range(numheads + 1):\n",
    "        rabbits = numheads - chickens\n",
    "        if 2 * chickens + 4 * rabbits == numlegs:\n",
    "            return chickens, rabbits\n",
    "    return \"No solution\"\n",
    "\n",
    "print(solve(35, 94))"
   ]
  },
  {
   "cell_type": "code",
   "execution_count": 17,
   "metadata": {},
   "outputs": [
    {
     "name": "stdout",
     "output_type": "stream",
     "text": [
      "[11, 13, 17, 19]\n"
     ]
    }
   ],
   "source": [
    "# 4\n",
    "def filter_prime(numbers):\n",
    "    def is_prime(n):\n",
    "        if n < 2:\n",
    "            return False\n",
    "        for i in range(2, int(n ** 0.5) + 1):\n",
    "            if n % i == 0:\n",
    "                return False\n",
    "        return True\n",
    "\n",
    "    return [num for num in numbers if is_prime(num)]\n",
    "\n",
    "print(filter_prime([10, 11, 12, 13, 14, 15, 16, 17, 18, 19]))"
   ]
  },
  {
   "cell_type": "code",
   "execution_count": null,
   "metadata": {},
   "outputs": [
    {
     "name": "stdout",
     "output_type": "stream",
     "text": [
      "abs\n",
      "asb\n",
      "bas\n",
      "bsa\n",
      "sab\n",
      "sba\n"
     ]
    }
   ],
   "source": [
    "# 5\n",
    "def print_permutations(s, prefix=\"\"):\n",
    "    if not s:\n",
    "        print(prefix)\n",
    "    else:\n",
    "        for i in range(len(s)):\n",
    "            print_permutations(s[:i] + s[i+1:], prefix + s[i])\n",
    "\n",
    "print_permutations(\"abs\")\n",
    "    "
   ]
  },
  {
   "cell_type": "code",
   "execution_count": 12,
   "metadata": {},
   "outputs": [
    {
     "name": "stdout",
     "output_type": "stream",
     "text": [
      "19\n"
     ]
    }
   ],
   "source": [
    "# 6\n",
    "def reverse_print(txt):\n",
    "    words = txt.split()\n",
    "    print(\" \".join(reversed(words)))\n",
    "\n",
    "text = input()\n",
    "reverse_print(text)"
   ]
  },
  {
   "cell_type": "code",
   "execution_count": 13,
   "metadata": {},
   "outputs": [
    {
     "name": "stdout",
     "output_type": "stream",
     "text": [
      "True\n",
      "False\n",
      "False\n"
     ]
    }
   ],
   "source": [
    "# 7\n",
    "def has_33(arr):\n",
    "    for i in range(len(arr) - 1):\n",
    "        if arr[i] == 3 and arr[i + 1] == 3:\n",
    "            return True\n",
    "    return False\n",
    "\n",
    "print(has_33([1, 3, 3]))\n",
    "print(has_33([1, 3, 1, 3])) \n",
    "print(has_33([3, 1, 3]))"
   ]
  },
  {
   "cell_type": "code",
   "execution_count": 19,
   "metadata": {},
   "outputs": [
    {
     "name": "stdout",
     "output_type": "stream",
     "text": [
      "True\n",
      "True\n",
      "False\n"
     ]
    }
   ],
   "source": [
    "# 8\n",
    "def spy_game(nums):\n",
    "    code = [0, 0, 7]\n",
    "    for num in nums:\n",
    "        if num == code[0]:\n",
    "            code.pop(0)  \n",
    "        if not code:\n",
    "            return True\n",
    "    return False\n",
    "\n",
    "print(spy_game([1, 2, 4, 0, 0, 7, 5]))  \n",
    "print(spy_game([1, 0, 2, 4, 0, 5, 7]))  \n",
    "print(spy_game([1, 7, 2, 0, 4, 5, 0]))  \n"
   ]
  },
  {
   "cell_type": "code",
   "execution_count": 14,
   "metadata": {},
   "outputs": [
    {
     "name": "stdout",
     "output_type": "stream",
     "text": [
      "33.510321638291124\n"
     ]
    }
   ],
   "source": [
    "# 9\n",
    "import math\n",
    "\n",
    "def vol(radius):\n",
    "    return (4 / 3) * math.pi * pow(radius, 3)\n",
    "\n",
    "print(vol(2))"
   ]
  },
  {
   "cell_type": "code",
   "execution_count": 20,
   "metadata": {},
   "outputs": [
    {
     "name": "stdout",
     "output_type": "stream",
     "text": [
      "[1, 2, 3, 4, 5]\n"
     ]
    }
   ],
   "source": [
    "# 10\n",
    "def unique_elements(lst):\n",
    "    unique_list = []\n",
    "    for item in lst:\n",
    "        if item not in unique_list:\n",
    "            unique_list.append(item)\n",
    "    return unique_list\n",
    "\n",
    "print(unique_elements([1, 2, 2, 3, 4, 4, 5])) \n"
   ]
  },
  {
   "cell_type": "code",
   "execution_count": 15,
   "metadata": {},
   "outputs": [
    {
     "name": "stdout",
     "output_type": "stream",
     "text": [
      "True\n"
     ]
    }
   ],
   "source": [
    "# 11\n",
    "def isPalindrome(text):\n",
    "    return text == text[::-1]\n",
    "\n",
    "print(isPalindrome(\"PalaP\"))\n",
    " "
   ]
  },
  {
   "cell_type": "code",
   "execution_count": 3,
   "metadata": {},
   "outputs": [
    {
     "name": "stdout",
     "output_type": "stream",
     "text": [
      "****\n",
      "*********\n",
      "*******\n"
     ]
    }
   ],
   "source": [
    "# 12\n",
    "def histogram(arr):\n",
    "    for x in arr:\n",
    "        print('*'*x)\n",
    "\n",
    "histogram([4, 9, 7])        "
   ]
  },
  {
   "cell_type": "code",
   "execution_count": null,
   "metadata": {},
   "outputs": [],
   "source": [
    "# 13\n",
    "from random import randint\n",
    "\n",
    "def game():\n",
    "    name = input(\"Hello! What's your name?\\n\")\n",
    "    guess = randint(1, 20)\n",
    "    tries = 0\n",
    "    \n",
    "    print(f\"Well, {name}, I am thinking of a number between 1 and 20.\")\n",
    "    \n",
    "    while True:\n",
    "        tries += 1\n",
    "        player = int(input(\"Take a guess: \"))\n",
    "        \n",
    "        if player < guess:\n",
    "            print(\"Your guess is too low.\")\n",
    "        elif player > guess:\n",
    "            print(\"Your guess is too high.\")\n",
    "        else:\n",
    "            print(f\"Good job, {name}! You guessed my number in {tries} guesses!\")\n",
    "            break\n",
    "\n",
    "game()\n"
   ]
  },
  {
   "cell_type": "markdown",
   "metadata": {},
   "source": [
    "# Functions 2"
   ]
  },
  {
   "cell_type": "code",
   "execution_count": 21,
   "metadata": {},
   "outputs": [
    {
     "name": "stdout",
     "output_type": "stream",
     "text": [
      "False\n",
      "[{'name': 'Usual Suspects', 'imdb': 7.0, 'category': 'Thriller'}, {'name': 'Hitman', 'imdb': 6.3, 'category': 'Action'}, {'name': 'Dark Knight', 'imdb': 9.0, 'category': 'Adventure'}, {'name': 'The Help', 'imdb': 8.0, 'category': 'Drama'}, {'name': 'The Choice', 'imdb': 6.2, 'category': 'Romance'}, {'name': 'Colonia', 'imdb': 7.4, 'category': 'Romance'}, {'name': 'Love', 'imdb': 6.0, 'category': 'Romance'}, {'name': 'Joking muck', 'imdb': 7.2, 'category': 'Comedy'}, {'name': 'What is the name', 'imdb': 9.2, 'category': 'Suspense'}, {'name': 'Detective', 'imdb': 7.0, 'category': 'Suspense'}, {'name': 'We Two', 'imdb': 7.2, 'category': 'Romance'}]\n",
      "[{'name': 'The Choice', 'imdb': 6.2, 'category': 'Romance'}, {'name': 'Colonia', 'imdb': 7.4, 'category': 'Romance'}, {'name': 'Love', 'imdb': 6.0, 'category': 'Romance'}, {'name': 'Bride Wars', 'imdb': 5.4, 'category': 'Romance'}, {'name': 'We Two', 'imdb': 7.2, 'category': 'Romance'}]\n",
      "6.486666666666666\n",
      "6.44\n"
     ]
    }
   ],
   "source": [
    "movies = [\n",
    "    {\"name\": \"Usual Suspects\", \"imdb\": 7.0, \"category\": \"Thriller\"},\n",
    "    {\"name\": \"Hitman\", \"imdb\": 6.3, \"category\": \"Action\"},\n",
    "    {\"name\": \"Dark Knight\", \"imdb\": 9.0, \"category\": \"Adventure\"},\n",
    "    {\"name\": \"The Help\", \"imdb\": 8.0, \"category\": \"Drama\"},\n",
    "    {\"name\": \"The Choice\", \"imdb\": 6.2, \"category\": \"Romance\"},\n",
    "    {\"name\": \"Colonia\", \"imdb\": 7.4, \"category\": \"Romance\"},\n",
    "    {\"name\": \"Love\", \"imdb\": 6.0, \"category\": \"Romance\"},\n",
    "    {\"name\": \"Bride Wars\", \"imdb\": 5.4, \"category\": \"Romance\"},\n",
    "    {\"name\": \"AlphaJet\", \"imdb\": 3.2, \"category\": \"War\"},\n",
    "    {\"name\": \"Ringing Crime\", \"imdb\": 4.0, \"category\": \"Crime\"},\n",
    "    {\"name\": \"Joking muck\", \"imdb\": 7.2, \"category\": \"Comedy\"},\n",
    "    {\"name\": \"What is the name\", \"imdb\": 9.2, \"category\": \"Suspense\"},\n",
    "    {\"name\": \"Detective\", \"imdb\": 7.0, \"category\": \"Suspense\"},\n",
    "    {\"name\": \"Exam\", \"imdb\": 4.2, \"category\": \"Thriller\"},\n",
    "    {\"name\": \"We Two\", \"imdb\": 7.2, \"category\": \"Romance\"}\n",
    "]\n",
    "\n",
    "def isGood(name):\n",
    "    return any(x[\"name\"] == name and x[\"imdb\"] > 5.0 for x in movies)\n",
    "\n",
    "def goodList():\n",
    "    return [x for x in movies if x[\"imdb\"] > 5.5]\n",
    "\n",
    "def categorySort(category):\n",
    "    return [x for x in movies if x[\"category\"] == category]\n",
    "\n",
    "def avgRating():\n",
    "    return sum(x[\"imdb\"] for x in movies) / len(movies)\n",
    "\n",
    "def avgByCategory(category):\n",
    "    filtered = [x[\"imdb\"] for x in movies if x[\"category\"] == category]\n",
    "    return sum(filtered) / len(filtered) if filtered else 0\n",
    "\n",
    "print(isGood(\"Exam\"))\n",
    "print(goodList())\n",
    "print(categorySort(\"Romance\"))\n",
    "print(avgRating())\n",
    "print(avgByCategory(\"Romance\"))\n"
   ]
  }
 ],
 "metadata": {
  "kernelspec": {
   "display_name": "Python 3",
   "language": "python",
   "name": "python3"
  },
  "language_info": {
   "codemirror_mode": {
    "name": "ipython",
    "version": 3
   },
   "file_extension": ".py",
   "mimetype": "text/x-python",
   "name": "python",
   "nbconvert_exporter": "python",
   "pygments_lexer": "ipython3",
   "version": "3.9.6"
  }
 },
 "nbformat": 4,
 "nbformat_minor": 2
}
