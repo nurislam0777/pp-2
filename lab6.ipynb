{
 "cells": [
  {
   "cell_type": "markdown",
   "metadata": {},
   "source": [
    "# Python buil-tin functions exercises"
   ]
  },
  {
   "cell_type": "code",
   "execution_count": 4,
   "metadata": {},
   "outputs": [
    {
     "name": "stdout",
     "output_type": "stream",
     "text": [
      "Product of list: 6\n"
     ]
    }
   ],
   "source": [
    "import math\n",
    "import functools\n",
    "\n",
    "\n",
    "def multiply_list():\n",
    "    numbers = list(map(int, input(\"Enter numbers separated by space: \").split()))\n",
    "    return functools.reduce(lambda x, y: x * y, numbers)\n",
    "\n",
    "print(\"Product of list:\", multiply_list())"
   ]
  },
  {
   "cell_type": "code",
   "execution_count": 11,
   "metadata": {},
   "outputs": [
    {
     "name": "stdout",
     "output_type": "stream",
     "text": [
      "Upper and lower case count: (2, 7)\n"
     ]
    }
   ],
   "source": [
    "def count_case():\n",
    "    s = input(\"Enter a string: \")\n",
    "    upper_case = sum(1 for char in s if char.isupper())\n",
    "    lower_case = sum(1 for char in s if char.islower())\n",
    "    return upper_case, lower_case\n",
    "\n",
    "print(\"Upper and lower case count:\", count_case())"
   ]
  },
  {
   "cell_type": "code",
   "execution_count": 12,
   "metadata": {},
   "outputs": [
    {
     "name": "stdout",
     "output_type": "stream",
     "text": [
      "Is palindrome: False\n"
     ]
    }
   ],
   "source": [
    "def is_palindrome():\n",
    "    s = input(\"Enter a string: \")\n",
    "    return s == s[::-1]\n",
    "\n",
    "print(\"Is palindrome:\", is_palindrome())"
   ]
  },
  {
   "cell_type": "code",
   "execution_count": 13,
   "metadata": {},
   "outputs": [
    {
     "name": "stdout",
     "output_type": "stream",
     "text": [
      "Square root result: 1.7320508075688772\n"
     ]
    }
   ],
   "source": [
    "import math\n",
    "import time\n",
    "\n",
    "def delayed_sqrt():\n",
    "    number = int(input(\"Enter a number: \"))\n",
    "    delay = int(input(\"Enter delay in milliseconds: \"))\n",
    "    time.sleep(delay / 1000)  \n",
    "    return math.sqrt(number)\n",
    "\n",
    "print(f\"Square root result: {delayed_sqrt()}\")"
   ]
  },
  {
   "cell_type": "code",
   "execution_count": 8,
   "metadata": {},
   "outputs": [
    {
     "name": "stdout",
     "output_type": "stream",
     "text": [
      "All elements true: False\n"
     ]
    }
   ],
   "source": [
    "import math\n",
    "\n",
    "def all_elements_true():\n",
    "    t = tuple(map(lambda x: x.lower() == 'true', input(\"Enter tuple elements separated by space (True/False): \").split()))\n",
    "    return all(t)\n",
    "\n",
    "print(\"All elements true:\", all_elements_true())"
   ]
  },
  {
   "cell_type": "markdown",
   "metadata": {},
   "source": [
    "# Python Directories and Files exercises\n"
   ]
  },
  {
   "cell_type": "code",
   "execution_count": 17,
   "metadata": {},
   "outputs": [
    {
     "name": "stdout",
     "output_type": "stream",
     "text": [
      "Directories and Files: ([], ['test_file2.txt', 'test_file1.txt'], ['test_file2.txt', 'test_file1.txt'])\n",
      "Access Check: {'Exists': True, 'Readable': True, 'Writable': True, 'Executable': True}\n",
      "Path Existence: {'Directory': '.', 'Filename': 'test_directory'}\n",
      "Line Count in File: 1\n",
      "File copied successfully\n",
      "File does not exist\n"
     ]
    }
   ],
   "source": [
    "import os\n",
    "import shutil\n",
    "\n",
    "def list_directories_files(path):\n",
    "    try:\n",
    "        items = os.listdir(path)\n",
    "        directories = [d for d in items if os.path.isdir(os.path.join(path, d))]\n",
    "        files = [f for f in items if os.path.isfile(os.path.join(path, f))]\n",
    "        return directories, files, items\n",
    "    except FileNotFoundError:\n",
    "        return \"Path not found\"\n",
    "\n",
    "def check_access(path):\n",
    "    return {\n",
    "        \"Exists\": os.path.exists(path),\n",
    "        \"Readable\": os.access(path, os.R_OK),\n",
    "        \"Writable\": os.access(path, os.W_OK),\n",
    "        \"Executable\": os.access(path, os.X_OK)\n",
    "    }\n",
    "\n",
    "def test_path_existence(path):\n",
    "    if os.path.exists(path):\n",
    "        return {\n",
    "            \"Directory\": os.path.dirname(path),\n",
    "            \"Filename\": os.path.basename(path)\n",
    "        }\n",
    "    else:\n",
    "        return \"Path does not exist\"\n",
    "\n",
    "def count_lines_in_file(file_path):\n",
    "    try:\n",
    "        with open(file_path, 'r', encoding='utf-8') as file:\n",
    "            return sum(1 for _ in file)\n",
    "    except FileNotFoundError:\n",
    "        return \"File not found\"\n",
    "\n",
    "def write_list_to_file(file_path, data):\n",
    "    with open(file_path, 'w', encoding='utf-8') as file:\n",
    "        for item in data:\n",
    "            file.write(f\"{item}\\n\")\n",
    "\n",
    "def generate_text_files():\n",
    "    for char in range(65, 91):  # ASCII values for A-Z\n",
    "        with open(f\"{chr(char)}.txt\", 'w') as file:\n",
    "            file.write(f\"This is {chr(char)}.txt\\n\")\n",
    "\n",
    "def copy_file(source, destination):\n",
    "    try:\n",
    "        shutil.copy(source, destination)\n",
    "        return \"File copied successfully\"\n",
    "    except FileNotFoundError:\n",
    "        return \"Source file not found\"\n",
    "\n",
    "def delete_file(path):\n",
    "    if os.path.exists(path):\n",
    "        if os.access(path, os.W_OK):\n",
    "            os.remove(path)\n",
    "            return \"File deleted successfully\"\n",
    "        else:\n",
    "            return \"File is not writable, cannot delete\"\n",
    "    else:\n",
    "        return \"File does not exist\"\n",
    "\n",
    "\n",
    "if __name__ == \"__main__\":\n",
    "    path = \"./test_directory\" \n",
    "    print(\"Directories and Files:\", list_directories_files(path))\n",
    "    print(\"Access Check:\", check_access(path))\n",
    "    print(\"Path Existence:\", test_path_existence(path))\n",
    "    print(\"Line Count in File:\", count_lines_in_file(\"example.txt\"))\n",
    "    write_list_to_file(\"list_output.txt\", [\"apple\", \"banana\", \"cherry\"])\n",
    "    generate_text_files()\n",
    "    print(copy_file(\"source.txt\", \"destination.txt\"))\n",
    "    print(delete_file(\"delete_me.txt\"))"
   ]
  }
 ],
 "metadata": {
  "kernelspec": {
   "display_name": "Python 3",
   "language": "python",
   "name": "python3"
  },
  "language_info": {
   "codemirror_mode": {
    "name": "ipython",
    "version": 3
   },
   "file_extension": ".py",
   "mimetype": "text/x-python",
   "name": "python",
   "nbconvert_exporter": "python",
   "pygments_lexer": "ipython3",
   "version": "3.9.6"
  }
 },
 "nbformat": 4,
 "nbformat_minor": 2
}
