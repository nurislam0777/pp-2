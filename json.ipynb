{
 "cells": [
  {
   "cell_type": "code",
   "execution_count": 1,
   "metadata": {},
   "outputs": [
    {
     "name": "stdout",
     "output_type": "stream",
     "text": [
      "{'totalCount': '400', 'imdata': [{'l1PhysIf': {'attributes': {'adminSt': 'up', 'autoNeg': 'on', 'brkoutMap': 'none', 'bw': '0', 'childAction': '', 'delay': '1', 'descr': '', 'dn': 'topology/pod-1/node-201/sys/phys-[eth1/33]', 'dot1qEtherType': '0x8100', 'ethpmCfgFailedBmp': '', 'ethpmCfgFailedTs': '00:00:00:00.000', 'ethpmCfgState': '0', 'fecMode': 'inherit', 'id': 'eth1/33', 'inhBw': 'unspecified', 'layer': 'Layer3', 'lcOwn': 'local', 'linkDebounce': '100', 'linkLog': 'default', 'mdix': 'auto', 'medium': 'broadcast', 'modTs': '2016-11-28T16:03:29.317-05:00', 'mode': 'trunk', 'monPolDn': 'uni/fabric/monfab-default', 'mtu': '9150', 'name': '', 'pathSDescr': '', 'portT': 'fab', 'prioFlowCtrl': 'auto', 'qiqL2ProtTunMask': '', 'routerMac': 'not-applicable', 'snmpTrapSt': 'enable', 'spanMode': 'not-a-span-dest', 'speed': 'inherit', 'status': '', 'switchingSt': 'disabled', 'trunkLog': 'default', 'usage': 'fabric,fabric-ext'}}}, {'l1PhysIf': {'attributes': {'adminSt': 'up', 'autoNeg': 'on', 'brkoutMap': 'none', 'bw': '0', 'childAction': '', 'delay': '1', 'descr': '', 'dn': 'topology/pod-1/node-201/sys/phys-[eth1/34]', 'dot1qEtherType': '0x8100', 'ethpmCfgFailedBmp': '', 'ethpmCfgFailedTs': '00:00:00:00.000', 'ethpmCfgState': '0', 'fecMode': 'inherit', 'id': 'eth1/34', 'inhBw': 'unspecified', 'layer': 'Layer3', 'lcOwn': 'local', 'linkDebounce': '100', 'linkLog': 'default', 'mdix': 'auto', 'medium': 'broadcast', 'modTs': '2016-11-28T16:03:29.317-05:00', 'mode': 'trunk', 'monPolDn': 'uni/fabric/monfab-default', 'mtu': '9150', 'name': '', 'pathSDescr': '', 'portT': 'fab', 'prioFlowCtrl': 'auto', 'qiqL2ProtTunMask': '', 'routerMac': 'not-applicable', 'snmpTrapSt': 'enable', 'spanMode': 'not-a-span-dest', 'speed': 'inherit', 'status': '', 'switchingSt': 'disabled', 'trunkLog': 'default', 'usage': 'fabric,fabric-ext'}}}, {'l1PhysIf': {'attributes': {'adminSt': 'up', 'autoNeg': 'on', 'brkoutMap': 'none', 'bw': '0', 'childAction': '', 'delay': '1', 'descr': '', 'dn': 'topology/pod-1/node-201/sys/phys-[eth1/35]', 'dot1qEtherType': '0x8100', 'ethpmCfgFailedBmp': '', 'ethpmCfgFailedTs': '00:00:00:00.000', 'ethpmCfgState': '0', 'fecMode': 'inherit', 'id': 'eth1/35', 'inhBw': 'unspecified', 'layer': 'Layer3', 'lcOwn': 'local', 'linkDebounce': '100', 'linkLog': 'default', 'mdix': 'auto', 'medium': 'broadcast', 'modTs': '2016-11-28T16:03:29.317-05:00', 'mode': 'trunk', 'monPolDn': 'uni/fabric/monfab-default', 'mtu': '9150', 'name': '', 'pathSDescr': '', 'portT': 'fab', 'prioFlowCtrl': 'auto', 'qiqL2ProtTunMask': '', 'routerMac': 'not-applicable', 'snmpTrapSt': 'enable', 'spanMode': 'not-a-span-dest', 'speed': 'inherit', 'status': '', 'switchingSt': 'disabled', 'trunkLog': 'default', 'usage': 'fabric,fabric-ext'}}}, {'l1PhysIf': {'attributes': {'adminSt': 'up', 'autoNeg': 'on', 'brkoutMap': 'none', 'bw': '0', 'childAction': '', 'delay': '1', 'descr': '', 'dn': 'topology/pod-1/node-201/sys/phys-[eth1/36]', 'dot1qEtherType': '0x8100', 'ethpmCfgFailedBmp': '', 'ethpmCfgFailedTs': '00:00:00:00.000', 'ethpmCfgState': '0', 'fecMode': 'inherit', 'id': 'eth1/36', 'inhBw': 'unspecified', 'layer': 'Layer3', 'lcOwn': 'local', 'linkDebounce': '100', 'linkLog': 'default', 'mdix': 'auto', 'medium': 'broadcast', 'modTs': '2016-11-28T16:03:29.317-05:00', 'mode': 'trunk', 'monPolDn': 'uni/fabric/monfab-default', 'mtu': '9150', 'name': '', 'pathSDescr': '', 'portT': 'fab', 'prioFlowCtrl': 'auto', 'qiqL2ProtTunMask': '', 'routerMac': 'not-applicable', 'snmpTrapSt': 'enable', 'spanMode': 'not-a-span-dest', 'speed': 'inherit', 'status': '', 'switchingSt': 'disabled', 'trunkLog': 'default', 'usage': 'fabric,fabric-ext'}}}, {'l1PhysIf': {'attributes': {'adminSt': 'up', 'autoNeg': 'on', 'brkoutMap': 'none', 'bw': '0', 'childAction': '', 'delay': '1', 'descr': '', 'dn': 'topology/pod-1/node-201/sys/phys-[eth1/1]', 'dot1qEtherType': '0x8100', 'ethpmCfgFailedBmp': '', 'ethpmCfgFailedTs': '00:00:00:00.000', 'ethpmCfgState': '0', 'fecMode': 'inherit', 'id': 'eth1/1', 'inhBw': 'unspecified', 'layer': 'Layer3', 'lcOwn': 'local', 'linkDebounce': '100', 'linkLog': 'default', 'mdix': 'auto', 'medium': 'broadcast', 'modTs': '2017-06-30T06:35:49.634-05:00', 'mode': 'trunk', 'monPolDn': 'uni/fabric/monfab-default', 'mtu': '9150', 'name': '', 'pathSDescr': '', 'portT': 'fab', 'prioFlowCtrl': 'auto', 'qiqL2ProtTunMask': '', 'routerMac': 'not-applicable', 'snmpTrapSt': 'enable', 'spanMode': 'not-a-span-dest', 'speed': 'inherit', 'status': '', 'switchingSt': 'enabled', 'trunkLog': 'default', 'usage': 'fabric'}}}, {'l1PhysIf': {'attributes': {'adminSt': 'up', 'autoNeg': 'on', 'brkoutMap': 'none', 'bw': '0', 'childAction': '', 'delay': '1', 'descr': '', 'dn': 'topology/pod-1/node-201/sys/phys-[eth1/2]', 'dot1qEtherType': '0x8100', 'ethpmCfgFailedBmp': '', 'ethpmCfgFailedTs': '00:00:00:00.000', 'ethpmCfgState': '0', 'fecMode': 'inherit', 'id': 'eth1/2', 'inhBw': 'unspecified', 'layer': 'Layer3', 'lcOwn': 'local', 'linkDebounce': '100', 'linkLog': 'default', 'mdix': 'auto', 'medium': 'broadcast', 'modTs': '2017-06-30T06:36:08.122-05:00', 'mode': 'trunk', 'monPolDn': 'uni/fabric/monfab-default', 'mtu': '9150', 'name': '', 'pathSDescr': '', 'portT': 'fab', 'prioFlowCtrl': 'auto', 'qiqL2ProtTunMask': '', 'routerMac': 'not-applicable', 'snmpTrapSt': 'enable', 'spanMode': 'not-a-span-dest', 'speed': 'inherit', 'status': '', 'switchingSt': 'enabled', 'trunkLog': 'default', 'usage': 'fabric'}}}, {'l1PhysIf': {'attributes': {'adminSt': 'up', 'autoNeg': 'on', 'brkoutMap': 'none', 'bw': '0', 'childAction': '', 'delay': '1', 'descr': '', 'dn': 'topology/pod-1/node-201/sys/phys-[eth1/3]', 'dot1qEtherType': '0x8100', 'ethpmCfgFailedBmp': '', 'ethpmCfgFailedTs': '00:00:00:00.000', 'ethpmCfgState': '0', 'fecMode': 'inherit', 'id': 'eth1/3', 'inhBw': 'unspecified', 'layer': 'Layer3', 'lcOwn': 'local', 'linkDebounce': '100', 'linkLog': 'default', 'mdix': 'auto', 'medium': 'broadcast', 'modTs': '2017-06-30T06:36:10.100-05:00', 'mode': 'trunk', 'monPolDn': 'uni/fabric/monfab-default', 'mtu': '9150', 'name': '', 'pathSDescr': '', 'portT': 'fab', 'prioFlowCtrl': 'auto', 'qiqL2ProtTunMask': '', 'routerMac': 'not-applicable', 'snmpTrapSt': 'enable', 'spanMode': 'not-a-span-dest', 'speed': 'inherit', 'status': '', 'switchingSt': 'enabled', 'trunkLog': 'default', 'usage': 'fabric'}}}, {'l1PhysIf': {'attributes': {'adminSt': 'up', 'autoNeg': 'on', 'brkoutMap': 'none', 'bw': '0', 'childAction': '', 'delay': '1', 'descr': '', 'dn': 'topology/pod-1/node-201/sys/phys-[eth1/4]', 'dot1qEtherType': '0x8100', 'ethpmCfgFailedBmp': '', 'ethpmCfgFailedTs': '00:00:00:00.000', 'ethpmCfgState': '0', 'fecMode': 'inherit', 'id': 'eth1/4', 'inhBw': 'unspecified', 'layer': 'Layer3', 'lcOwn': 'local', 'linkDebounce': '100', 'linkLog': 'default', 'mdix': 'auto', 'medium': 'broadcast', 'modTs': '2017-06-30T06:36:03.247-05:00', 'mode': 'trunk', 'monPolDn': 'uni/fabric/monfab-default', 'mtu': '9150', 'name': '', 'pathSDescr': '', 'portT': 'fab', 'prioFlowCtrl': 'auto', 'qiqL2ProtTunMask': '', 'routerMac': 'not-applicable', 'snmpTrapSt': 'enable', 'spanMode': 'not-a-span-dest', 'speed': 'inherit', 'status': '', 'switchingSt': 'enabled', 'trunkLog': 'default', 'usage': 'fabric'}}}, {'l1PhysIf': {'attributes': {'adminSt': 'up', 'autoNeg': 'on', 'brkoutMap': 'none', 'bw': '0', 'childAction': '', 'delay': '1', 'descr': '', 'dn': 'topology/pod-1/node-201/sys/phys-[eth1/5]', 'dot1qEtherType': '0x8100', 'ethpmCfgFailedBmp': '', 'ethpmCfgFailedTs': '00:00:00:00.000', 'ethpmCfgState': '0', 'fecMode': 'inherit', 'id': 'eth1/5', 'inhBw': 'unspecified', 'layer': 'Layer3', 'lcOwn': 'local', 'linkDebounce': '100', 'linkLog': 'default', 'mdix': 'auto', 'medium': 'broadcast', 'modTs': '2016-11-28T16:03:29.317-05:00', 'mode': 'trunk', 'monPolDn': 'uni/fabric/monfab-default', 'mtu': '9150', 'name': '', 'pathSDescr': '', 'portT': 'fab', 'prioFlowCtrl': 'auto', 'qiqL2ProtTunMask': '', 'routerMac': 'not-applicable', 'snmpTrapSt': 'enable', 'spanMode': 'not-a-span-dest', 'speed': 'inherit', 'status': '', 'switchingSt': 'disabled', 'trunkLog': 'default', 'usage': 'fabric,fabric-ext'}}}, {'l1PhysIf': {'attributes': {'adminSt': 'up', 'autoNeg': 'on', 'brkoutMap': 'none', 'bw': '0', 'childAction': '', 'delay': '1', 'descr': '', 'dn': 'topology/pod-1/node-201/sys/phys-[eth1/6]', 'dot1qEtherType': '0x8100', 'ethpmCfgFailedBmp': '', 'ethpmCfgFailedTs': '00:00:00:00.000', 'ethpmCfgState': '0', 'fecMode': 'inherit', 'id': 'eth1/6', 'inhBw': 'unspecified', 'layer': 'Layer3', 'lcOwn': 'local', 'linkDebounce': '100', 'linkLog': 'default', 'mdix': 'auto', 'medium': 'broadcast', 'modTs': '2016-11-28T16:03:29.317-05:00', 'mode': 'trunk', 'monPolDn': 'uni/fabric/monfab-default', 'mtu': '9150', 'name': '', 'pathSDescr': '', 'portT': 'fab', 'prioFlowCtrl': 'auto', 'qiqL2ProtTunMask': '', 'routerMac': 'not-applicable', 'snmpTrapSt': 'enable', 'spanMode': 'not-a-span-dest', 'speed': 'inherit', 'status': '', 'switchingSt': 'disabled', 'trunkLog': 'default', 'usage': 'fabric,fabric-ext'}}}, {'l1PhysIf': {'attributes': {'adminSt': 'up', 'autoNeg': 'on', 'brkoutMap': 'none', 'bw': '0', 'childAction': '', 'delay': '1', 'descr': '', 'dn': 'topology/pod-1/node-201/sys/phys-[eth1/7]', 'dot1qEtherType': '0x8100', 'ethpmCfgFailedBmp': '', 'ethpmCfgFailedTs': '00:00:00:00.000', 'ethpmCfgState': '0', 'fecMode': 'inherit', 'id': 'eth1/7', 'inhBw': 'unspecified', 'layer': 'Layer3', 'lcOwn': 'local', 'linkDebounce': '100', 'linkLog': 'default', 'mdix': 'auto', 'medium': 'broadcast', 'modTs': '2016-11-28T16:03:29.317-05:00', 'mode': 'trunk', 'monPolDn': 'uni/fabric/monfab-default', 'mtu': '9150', 'name': '', 'pathSDescr': '', 'portT': 'fab', 'prioFlowCtrl': 'auto', 'qiqL2ProtTunMask': '', 'routerMac': 'not-applicable', 'snmpTrapSt': 'enable', 'spanMode': 'not-a-span-dest', 'speed': 'inherit', 'status': '', 'switchingSt': 'disabled', 'trunkLog': 'default', 'usage': 'fabric,fabric-ext'}}}, {'l1PhysIf': {'attributes': {'adminSt': 'up', 'autoNeg': 'on', 'brkoutMap': 'none', 'bw': '0', 'childAction': '', 'delay': '1', 'descr': '', 'dn': 'topology/pod-1/node-201/sys/phys-[eth1/8]', 'dot1qEtherType': '0x8100', 'ethpmCfgFailedBmp': '', 'ethpmCfgFailedTs': '00:00:00:00.000', 'ethpmCfgState': '0', 'fecMode': 'inherit', 'id': 'eth1/8', 'inhBw': 'unspecified', 'layer': 'Layer3', 'lcOwn': 'local', 'linkDebounce': '100', 'linkLog': 'default', 'mdix': 'auto', 'medium': 'broadcast', 'modTs': '2016-11-28T16:03:29.317-05:00', 'mode': 'trunk', 'monPolDn': 'uni/fabric/monfab-default', 'mtu': '9150', 'name': '', 'pathSDescr': '', 'portT': 'fab', 'prioFlowCtrl': 'auto', 'qiqL2ProtTunMask': '', 'routerMac': 'not-applicable', 'snmpTrapSt': 'enable', 'spanMode': 'not-a-span-dest', 'speed': 'inherit', 'status': '', 'switchingSt': 'disabled', 'trunkLog': 'default', 'usage': 'fabric,fabric-ext'}}}, {'l1PhysIf': {'attributes': {'adminSt': 'up', 'autoNeg': 'on', 'brkoutMap': 'none', 'bw': '0', 'childAction': '', 'delay': '1', 'descr': '', 'dn': 'topology/pod-1/node-201/sys/phys-[eth1/9]', 'dot1qEtherType': '0x8100', 'ethpmCfgFailedBmp': '', 'ethpmCfgFailedTs': '00:00:00:00.000', 'ethpmCfgState': '0', 'fecMode': 'inherit', 'id': 'eth1/9', 'inhBw': 'unspecified', 'layer': 'Layer3', 'lcOwn': 'local', 'linkDebounce': '100', 'linkLog': 'default', 'mdix': 'auto', 'medium': 'broadcast', 'modTs': '2016-11-28T16:03:29.317-05:00', 'mode': 'trunk', 'monPolDn': 'uni/fabric/monfab-default', 'mtu': '9150', 'name': '', 'pathSDescr': '', 'portT': 'fab', 'prioFlowCtrl': 'auto', 'qiqL2ProtTunMask': '', 'routerMac': 'not-applicable', 'snmpTrapSt': 'enable', 'spanMode': 'not-a-span-dest', 'speed': 'inherit', 'status': '', 'switchingSt': 'disabled', 'trunkLog': 'default', 'usage': 'fabric,fabric-ext'}}}, {'l1PhysIf': {'attributes': {'adminSt': 'up', 'autoNeg': 'on', 'brkoutMap': 'none', 'bw': '0', 'childAction': '', 'delay': '1', 'descr': '', 'dn': 'topology/pod-1/node-201/sys/phys-[eth1/10]', 'dot1qEtherType': '0x8100', 'ethpmCfgFailedBmp': '', 'ethpmCfgFailedTs': '00:00:00:00.000', 'ethpmCfgState': '0', 'fecMode': 'inherit', 'id': 'eth1/10', 'inhBw': 'unspecified', 'layer': 'Layer3', 'lcOwn': 'local', 'linkDebounce': '100', 'linkLog': 'default', 'mdix': 'auto', 'medium': 'broadcast', 'modTs': '2016-11-28T16:03:29.317-05:00', 'mode': 'trunk', 'monPolDn': 'uni/fabric/monfab-default', 'mtu': '9150', 'name': '', 'pathSDescr': '', 'portT': 'fab', 'prioFlowCtrl': 'auto', 'qiqL2ProtTunMask': '', 'routerMac': 'not-applicable', 'snmpTrapSt': 'enable', 'spanMode': 'not-a-span-dest', 'speed': 'inherit', 'status': '', 'switchingSt': 'disabled', 'trunkLog': 'default', 'usage': 'fabric,fabric-ext'}}}, {'l1PhysIf': {'attributes': {'adminSt': 'up', 'autoNeg': 'on', 'brkoutMap': 'none', 'bw': '0', 'childAction': '', 'delay': '1', 'descr': '', 'dn': 'topology/pod-1/node-201/sys/phys-[eth1/11]', 'dot1qEtherType': '0x8100', 'ethpmCfgFailedBmp': '', 'ethpmCfgFailedTs': '00:00:00:00.000', 'ethpmCfgState': '0', 'fecMode': 'inherit', 'id': 'eth1/11', 'inhBw': 'unspecified', 'layer': 'Layer3', 'lcOwn': 'local', 'linkDebounce': '100', 'linkLog': 'default', 'mdix': 'auto', 'medium': 'broadcast', 'modTs': '2016-11-28T16:03:29.317-05:00', 'mode': 'trunk', 'monPolDn': 'uni/fabric/monfab-default', 'mtu': '9150', 'name': '', 'pathSDescr': '', 'portT': 'fab', 'prioFlowCtrl': 'auto', 'qiqL2ProtTunMask': '', 'routerMac': 'not-applicable', 'snmpTrapSt': 'enable', 'spanMode': 'not-a-span-dest', 'speed': 'inherit', 'status': '', 'switchingSt': 'disabled', 'trunkLog': 'default', 'usage': 'fabric,fabric-ext'}}}, {'l1PhysIf': {'attributes': {'adminSt': 'up', 'autoNeg': 'on', 'brkoutMap': 'none', 'bw': '0', 'childAction': '', 'delay': '1', 'descr': '', 'dn': 'topology/pod-1/node-201/sys/phys-[eth1/12]', 'dot1qEtherType': '0x8100', 'ethpmCfgFailedBmp': '', 'ethpmCfgFailedTs': '00:00:00:00.000', 'ethpmCfgState': '0', 'fecMode': 'inherit', 'id': 'eth1/12', 'inhBw': 'unspecified', 'layer': 'Layer3', 'lcOwn': 'local', 'linkDebounce': '100', 'linkLog': 'default', 'mdix': 'auto', 'medium': 'broadcast', 'modTs': '2016-11-28T16:03:29.317-05:00', 'mode': 'trunk', 'monPolDn': 'uni/fabric/monfab-default', 'mtu': '9150', 'name': '', 'pathSDescr': '', 'portT': 'fab', 'prioFlowCtrl': 'auto', 'qiqL2ProtTunMask': '', 'routerMac': 'not-applicable', 'snmpTrapSt': 'enable', 'spanMode': 'not-a-span-dest', 'speed': 'inherit', 'status': '', 'switchingSt': 'disabled', 'trunkLog': 'default', 'usage': 'fabric,fabric-ext'}}}, {'l1PhysIf': {'attributes': {'adminSt': 'up', 'autoNeg': 'on', 'brkoutMap': 'none', 'bw': '0', 'childAction': '', 'delay': '1', 'descr': '', 'dn': 'topology/pod-1/node-201/sys/phys-[eth1/13]', 'dot1qEtherType': '0x8100', 'ethpmCfgFailedBmp': '', 'ethpmCfgFailedTs': '00:00:00:00.000', 'ethpmCfgState': '0', 'fecMode': 'inherit', 'id': 'eth1/13', 'inhBw': 'unspecified', 'layer': 'Layer3', 'lcOwn': 'local', 'linkDebounce': '100', 'linkLog': 'default', 'mdix': 'auto', 'medium': 'broadcast', 'modTs': '2016-11-28T16:03:29.317-05:00', 'mode': 'trunk', 'monPolDn': 'uni/fabric/monfab-default', 'mtu': '9150', 'name': '', 'pathSDescr': '', 'portT': 'fab', 'prioFlowCtrl': 'auto', 'qiqL2ProtTunMask': '', 'routerMac': 'not-applicable', 'snmpTrapSt': 'enable', 'spanMode': 'not-a-span-dest', 'speed': 'inherit', 'status': '', 'switchingSt': 'disabled', 'trunkLog': 'default', 'usage': 'fabric,fabric-ext'}}}, {'l1PhysIf': {'attributes': {'adminSt': 'up', 'autoNeg': 'on', 'brkoutMap': 'none', 'bw': '0', 'childAction': '', 'delay': '1', 'descr': '', 'dn': 'topology/pod-1/node-201/sys/phys-[eth1/14]', 'dot1qEtherType': '0x8100', 'ethpmCfgFailedBmp': '', 'ethpmCfgFailedTs': '00:00:00:00.000', 'ethpmCfgState': '0', 'fecMode': 'inherit', 'id': 'eth1/14', 'inhBw': 'unspecified', 'layer': 'Layer3', 'lcOwn': 'local', 'linkDebounce': '100', 'linkLog': 'default', 'mdix': 'auto', 'medium': 'broadcast', 'modTs': '2016-11-28T16:03:29.317-05:00', 'mode': 'trunk', 'monPolDn': 'uni/fabric/monfab-default', 'mtu': '9150', 'name': '', 'pathSDescr': '', 'portT': 'fab', 'prioFlowCtrl': 'auto', 'qiqL2ProtTunMask': '', 'routerMac': 'not-applicable', 'snmpTrapSt': 'enable', 'spanMode': 'not-a-span-dest', 'speed': 'inherit', 'status': '', 'switchingSt': 'disabled', 'trunkLog': 'default', 'usage': 'fabric,fabric-ext'}}}]}\n"
     ]
    }
   ],
   "source": [
    "import json\n",
    "\n",
    "with open(\"sample-data.json\") as openfile:\n",
    "    data = json.load(openfile)\n",
    "\n",
    "print(data)"
   ]
  },
  {
   "cell_type": "code",
   "execution_count": 2,
   "metadata": {},
   "outputs": [
    {
     "name": "stdout",
     "output_type": "stream",
     "text": [
      "Interface status\n",
      "================================================================================\n",
      "DN                                                 Description           Speed   MTU  \n",
      "-------------------------------------------------- --------------------  ------  ------\n",
      "topology/pod-1/node-201/sys/phys-[eth1/33]\t\t\t\tinherit\t 9150\n",
      "topology/pod-1/node-201/sys/phys-[eth1/34]\t\t\t\tinherit\t 9150\n",
      "topology/pod-1/node-201/sys/phys-[eth1/35]\t\t\t\tinherit\t 9150\n",
      "topology/pod-1/node-201/sys/phys-[eth1/36]\t\t\t\tinherit\t 9150\n",
      "topology/pod-1/node-201/sys/phys-[eth1/1]\t\t\t\tinherit\t 9150\n",
      "topology/pod-1/node-201/sys/phys-[eth1/2]\t\t\t\tinherit\t 9150\n",
      "topology/pod-1/node-201/sys/phys-[eth1/3]\t\t\t\tinherit\t 9150\n",
      "topology/pod-1/node-201/sys/phys-[eth1/4]\t\t\t\tinherit\t 9150\n",
      "topology/pod-1/node-201/sys/phys-[eth1/5]\t\t\t\tinherit\t 9150\n",
      "topology/pod-1/node-201/sys/phys-[eth1/6]\t\t\t\tinherit\t 9150\n",
      "topology/pod-1/node-201/sys/phys-[eth1/7]\t\t\t\tinherit\t 9150\n",
      "topology/pod-1/node-201/sys/phys-[eth1/8]\t\t\t\tinherit\t 9150\n",
      "topology/pod-1/node-201/sys/phys-[eth1/9]\t\t\t\tinherit\t 9150\n",
      "topology/pod-1/node-201/sys/phys-[eth1/10]\t\t\t\tinherit\t 9150\n",
      "topology/pod-1/node-201/sys/phys-[eth1/11]\t\t\t\tinherit\t 9150\n",
      "topology/pod-1/node-201/sys/phys-[eth1/12]\t\t\t\tinherit\t 9150\n",
      "topology/pod-1/node-201/sys/phys-[eth1/13]\t\t\t\tinherit\t 9150\n",
      "topology/pod-1/node-201/sys/phys-[eth1/14]\t\t\t\tinherit\t 9150\n",
      "\n"
     ]
    }
   ],
   "source": [
    "import json\n",
    "\n",
    "print(\"\"\"Interface status\n",
    "================================================================================\n",
    "DN                                                 Description           Speed   MTU  \n",
    "-------------------------------------------------- --------------------  ------  ------\"\"\")\n",
    "\n",
    "frst = \"\"\n",
    "scnd = \"\"\n",
    "thrd = \"\"\n",
    "\n",
    "for el in data[\"imdata\"]:\n",
    "    frst += el[\"l1PhysIf\"][\"attributes\"][\"dn\"]\n",
    "\n",
    "    frst += \"\\t\\t\\t\\t\"\n",
    "\n",
    "    frst += el[\"l1PhysIf\"][\"attributes\"][\"fecMode\"]\n",
    "\n",
    "    frst += \"\\t \"\n",
    "\n",
    "    frst += el[\"l1PhysIf\"][\"attributes\"][\"mtu\"]\n",
    "\n",
    "    frst += \"\\n\"\n",
    "\n",
    "\n",
    "print(frst)"
   ]
  }
 ],
 "metadata": {
  "kernelspec": {
   "display_name": "Python 3",
   "language": "python",
   "name": "python3"
  },
  "language_info": {
   "codemirror_mode": {
    "name": "ipython",
    "version": 3
   },
   "file_extension": ".py",
   "mimetype": "text/x-python",
   "name": "python",
   "nbconvert_exporter": "python",
   "pygments_lexer": "ipython3",
   "version": "3.9.6"
  }
 },
 "nbformat": 4,
 "nbformat_minor": 2
}
